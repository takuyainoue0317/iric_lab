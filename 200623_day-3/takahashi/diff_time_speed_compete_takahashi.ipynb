{
 "cells": [
  {
   "cell_type": "code",
   "execution_count": 12,
   "metadata": {},
   "outputs": [],
   "source": [
    "from numba import njit, jit, f8\n",
    "import numpy as np\n",
    "import matplotlib.pyplot as plt\n",
    "import time\n",
    "%matplotlib inline\n"
   ]
  },
  {
   "cell_type": "code",
   "execution_count": 13,
   "metadata": {},
   "outputs": [],
   "source": [
    "#zb チェック\n",
    "@jit\n",
    "def draw_v2d(x, y, z):\n",
    "    import matplotlib.pyplot as plt\n",
    "    plt.contourf(x,y,z)\n",
    "    return 0"
   ]
  },
  {
   "cell_type": "code",
   "execution_count": 14,
   "metadata": {
    "tags": []
   },
   "outputs": [
    {
     "output_type": "stream",
     "name": "stdout",
     "text": "(10000, 10000)\n[[0.59181805 0.15817885 0.46750204 ... 0.84934843 0.09564677 0.38158022]\n [0.28551845 0.59302377 0.20209678 ... 0.95344514 0.79910806 0.53640485]\n [0.80612281 0.24392162 0.25294533 ... 0.27927905 0.77208285 0.15278676]\n ...\n [0.73955002 0.59611462 0.51088135 ... 0.49776582 0.36652532 0.87591037]\n [0.61853972 0.41943949 0.50547297 ... 0.36891973 0.85998831 0.96108593]\n [0.05920108 0.56216425 0.19425836 ... 0.82595084 0.50145867 0.35360884]]\n"
    }
   ],
   "source": [
    "# node \n",
    "imax = 10000; jmax = 10000\n",
    "\n",
    "#河床高\n",
    "zb = np.random.rand(imax, jmax)\n",
    "\n",
    "#mesh\n",
    "x, y = np.meshgrid(np.arange(zb.shape[1]), np.arange(zb.shape[0]))\n",
    "\n",
    "#res = draw_v2d(x, y, zb)\n",
    "\n",
    "print(zb.shape)\n",
    "print(zb)"
   ]
  },
  {
   "cell_type": "code",
   "execution_count": 15,
   "metadata": {},
   "outputs": [],
   "source": [
    "#numba jit\n",
    "@jit(\"f8[:,:](f8[:,:])\", nopython=True)\n",
    "def func_2(zb):\n",
    "\n",
    "    dzdx = np.zeros(zb.shape)\n",
    "    dzdy = np.zeros(zb.shape)\n",
    "    \n",
    "    dzdx[1:,0:] = zb[1:, 0:] - zb[0:-1,0:]\n",
    "  \n",
    "     \n",
    "    return dzdx"
   ]
  },
  {
   "cell_type": "code",
   "execution_count": 16,
   "metadata": {},
   "outputs": [],
   "source": [
    "##diff関数を用いる nは微分の階級（初期値は１）,axis=-1が通常のaxis=1 \n",
    "##https://deepage.net/features/numpy-diff.html\n",
    "def func_diff(zb):\n",
    "    dzdx=np.zeros(zb.shape)\n",
    "    dzdy=np.zeros(zb.shape)\n",
    "    dzdx=np.diff(zb,n=1,axis=0)\n",
    "    \n",
    "\n",
    "    return dzdx"
   ]
  },
  {
   "cell_type": "code",
   "execution_count": 17,
   "metadata": {},
   "outputs": [],
   "source": [
    "#numba jit\n",
    "@jit(\"f8[:,:](f8[:,:])\", nopython=True)\n",
    "def func_3(zb):\n",
    "    \n",
    "    \n",
    "    dzdx = np.zeros(zb.shape)\n",
    "    dzdy = np.zeros(zb.shape)\n",
    "    \n",
    "    imax = zb.shape[1]\n",
    "    jmax = zb.shape[0]\n",
    "    \n",
    "    for i in range(1,imax):\n",
    "        for j in range(0,jmax):\n",
    "            dzdx[i,j] = zb[i,j] - zb[i-1,j]\n",
    "            \n",
    " \n",
    "    \n",
    "    return dzdx"
   ]
  },
  {
   "cell_type": "code",
   "execution_count": 18,
   "metadata": {
    "tags": []
   },
   "outputs": [
    {
     "output_type": "stream",
     "name": "stdout",
     "text": "jit+slice\nstart time :  1593595554.8559995\nEnd time :  1593595559.6749399\nElapsed :  4.8189404010772705\n[[ 0.          0.          0.         ...  0.          0.\n   0.        ]\n [-0.3062996   0.43484493 -0.26540526 ...  0.1040967   0.70346129\n   0.15482462]\n [ 0.52060436 -0.34910215  0.05084855 ... -0.67416609 -0.02702521\n  -0.38361809]\n ...\n [ 0.61271864  0.27626688 -0.39391545 ...  0.06938651 -0.57938134\n   0.35652487]\n [-0.1210103  -0.17667514 -0.00540838 ... -0.12884609  0.493463\n   0.08517556]\n [-0.55933864  0.14272477 -0.31121461 ...  0.45703111 -0.35852965\n  -0.60747709]]\n"
    }
   ],
   "source": [
    "print(\"jit+slice\")\n",
    "t0 = time.time()  \n",
    "print(\"start time : \", t0)        \n",
    "res = func_2(zb)\n",
    "t1 = time.time()\n",
    "print(\"End time : \", t1)\n",
    "print(\"Elapsed : \", t1 - t0)\n",
    "print(res)"
   ]
  },
  {
   "cell_type": "code",
   "execution_count": null,
   "metadata": {},
   "outputs": [],
   "source": []
  },
  {
   "cell_type": "code",
   "execution_count": 19,
   "metadata": {
    "tags": []
   },
   "outputs": [
    {
     "output_type": "stream",
     "name": "stdout",
     "text": "diff\nstart time :  1593595559.78595\nEnd time :  1593595560.34299\nElapsed :  0.5570399761199951\n[[-0.3062996   0.43484493 -0.26540526 ...  0.1040967   0.70346129\n   0.15482462]\n [ 0.52060436 -0.34910215  0.05084855 ... -0.67416609 -0.02702521\n  -0.38361809]\n [-0.51348827  0.49417983  0.25563596 ...  0.44262845 -0.62278801\n   0.32442816]\n ...\n [ 0.61271864  0.27626688 -0.39391545 ...  0.06938651 -0.57938134\n   0.35652487]\n [-0.1210103  -0.17667514 -0.00540838 ... -0.12884609  0.493463\n   0.08517556]\n [-0.55933864  0.14272477 -0.31121461 ...  0.45703111 -0.35852965\n  -0.60747709]]\n"
    }
   ],
   "source": [
    "print(\"diff\")\n",
    "\n",
    "t0 = time.time()  \n",
    "print(\"start time : \", t0)        \n",
    "res = func_diff(zb)\n",
    "t1 = time.time()\n",
    "print(\"End time : \", t1)\n",
    "print(\"Elapsed : \", t1 - t0)\n",
    "print(res)"
   ]
  },
  {
   "cell_type": "code",
   "execution_count": 20,
   "metadata": {
    "tags": []
   },
   "outputs": [
    {
     "output_type": "stream",
     "name": "stdout",
     "text": "jit+for\nstart time :  1593595560.366993\nEnd time : 1593595561.481076\nElapsed :  1.1140830516815186\n[[ 0.          0.          0.         ...  0.          0.\n   0.        ]\n [-0.3062996   0.43484493 -0.26540526 ...  0.1040967   0.70346129\n   0.15482462]\n [ 0.52060436 -0.34910215  0.05084855 ... -0.67416609 -0.02702521\n  -0.38361809]\n ...\n [ 0.61271864  0.27626688 -0.39391545 ...  0.06938651 -0.57938134\n   0.35652487]\n [-0.1210103  -0.17667514 -0.00540838 ... -0.12884609  0.493463\n   0.08517556]\n [-0.55933864  0.14272477 -0.31121461 ...  0.45703111 -0.35852965\n  -0.60747709]]\n"
    }
   ],
   "source": [
    "print(\"jit+for\")\n",
    "t0 = time.time()  \n",
    "print(\"start time : \", t0)        \n",
    "res = func_3(zb)\n",
    "t1 = time.time()\n",
    "print(\"End time : \", t1)\n",
    "print(\"Elapsed : \", t1 - t0)\n",
    "print(res)"
   ]
  },
  {
   "cell_type": "code",
   "execution_count": 21,
   "metadata": {
    "tags": []
   },
   "outputs": [
    {
     "output_type": "stream",
     "name": "stdout",
     "text": "jit+slice\n1.65 s ± 138 ms per loop (mean ± std. dev. of 7 runs, 1 loop each)\ndiff\n476 ms ± 20.7 ms per loop (mean ± std. dev. of 7 runs, 1 loop each)\njit+for\n989 ms ± 14.5 ms per loop (mean ± std. dev. of 7 runs, 1 loop each)\n"
    }
   ],
   "source": [
    "print(\"jit+slice\")\n",
    "%timeit func_2(zb)\n",
    "print(\"diff\")\n",
    "%timeit func_diff(zb)\n",
    "print(\"jit+for\")\n",
    "%timeit func_3(zb)"
   ]
  },
  {
   "cell_type": "code",
   "execution_count": null,
   "metadata": {},
   "outputs": [],
   "source": []
  },
  {
   "cell_type": "code",
   "execution_count": null,
   "metadata": {},
   "outputs": [],
   "source": []
  },
  {
   "cell_type": "code",
   "execution_count": null,
   "metadata": {},
   "outputs": [],
   "source": []
  }
 ],
 "metadata": {
  "kernelspec": {
   "display_name": "Python 3",
   "language": "python",
   "name": "python3"
  },
  "language_info": {
   "codemirror_mode": {
    "name": "ipython",
    "version": 3
   },
   "file_extension": ".py",
   "mimetype": "text/x-python",
   "name": "python",
   "nbconvert_exporter": "python",
   "pygments_lexer": "ipython3",
   "version": "3.7.6-final"
  }
 },
 "nbformat": 4,
 "nbformat_minor": 4
}