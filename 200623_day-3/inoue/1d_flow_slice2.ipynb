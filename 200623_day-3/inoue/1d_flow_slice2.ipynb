{
 "cells": [
  {
   "cell_type": "code",
   "execution_count": 457,
   "metadata": {},
   "outputs": [],
   "source": [
    "#必要なライブラリをインポートしておく\n",
    "import numpy as np\n",
    "from numba import jit, njit, prange\n",
    "import matplotlib.pyplot as plt\n",
    "import matplotlib.cm as cm\n",
    "import scipy.optimize\n",
    "import time\n",
    "%matplotlib inline"
   ]
  },
  {
   "cell_type": "code",
   "execution_count": 500,
   "metadata": {},
   "outputs": [],
   "source": [
    "#物理定数\n",
    "g = 9.81\n",
    "\n",
    "#分割数・断面間距離[m]\n",
    "imax = 101\n",
    "xmax = 5000\n",
    "chlen = 5000\n",
    "dx = xmax/(imax-1)\n",
    "\n",
    "#勾配・川幅\n",
    "slope0 = 1/1000\n",
    "w0 = 200.\n",
    "n0 = 0.02\n",
    "\n",
    "#流量[m3/s]\n",
    "q_up = 2000.\n",
    "\n",
    "#時間\n",
    "tuk   = 6000.\n",
    "etime = tuk*60.\n",
    "dt = 0.02"
   ]
  },
  {
   "cell_type": "code",
   "execution_count": 501,
   "metadata": {},
   "outputs": [],
   "source": [
    "h  = np.zeros(imax+1)\n",
    "u  = np.zeros(imax+1)\n",
    "q  = np.zeros(imax+1)\n",
    "z0 = np.zeros(imax+1)\n",
    "wu = np.zeros(imax+1)\n",
    "q  = np.zeros(imax+1)\n",
    "wl = np.zeros(imax+1)"
   ]
  },
  {
   "cell_type": "code",
   "execution_count": 502,
   "metadata": {},
   "outputs": [],
   "source": [
    "x = np.linspace(0,xmax + dx, imax+1)"
   ]
  },
  {
   "cell_type": "code",
   "execution_count": 503,
   "metadata": {},
   "outputs": [],
   "source": [
    "#河床高\n",
    "z0 = - slope0 * x\n",
    "\n",
    "n1 = int(0.4*imax)\n",
    "n2 = int(0.5*imax)\n",
    "\n",
    "z0[n1:n2] = z0[n1:n2]+0.1"
   ]
  },
  {
   "cell_type": "code",
   "execution_count": 504,
   "metadata": {},
   "outputs": [],
   "source": [
    "h0 = (n0*q_up/(w0*slope0**0.5))**(2/3)"
   ]
  },
  {
   "cell_type": "code",
   "execution_count": 505,
   "metadata": {},
   "outputs": [],
   "source": [
    "h[1:]  = h0\n",
    "u[1:]  = q_up/(h0*w0)\n",
    "q[1:]  = q_up/w0"
   ]
  },
  {
   "cell_type": "code",
   "execution_count": 506,
   "metadata": {},
   "outputs": [],
   "source": [
    "#下流端水位設定\n",
    "h[0]  = h0\n",
    "u[0]  = q_up/(h[0]*w0)\n",
    "q[0]  = q_up/w0"
   ]
  },
  {
   "cell_type": "code",
   "execution_count": 507,
   "metadata": {},
   "outputs": [],
   "source": [
    "#@jit(nopython=True)\n",
    "def h_cal(h,u,z0,wu,q,g,dx,dt,n0):\n",
    "    \n",
    "    h_bar = np.zeros(imax+1)\n",
    "    press = np.zeros(imax+1)\n",
    "    rough = np.zeros(imax+1)\n",
    "    advec = np.zeros(imax+1)\n",
    "    nh = np.zeros(imax+1)\n",
    "    \n",
    "    h_bar[1:-1] = (h[1:-1]+h[2:])*0.5\n",
    "    #press[1:-1] = -g*(-h[1:-1]+h[2:])/dx -g*(-z0[1:-1]+z0[2:])/dx\n",
    "    press[1:-1] = -g*(np.diff(h[1:]))/dx -g*(np.diff(z0[1:]))/dx\n",
    "    rough[1:-1] = g*n0**2.0*u[1:-1]/h_bar[1:-1]**(4.0/3.0)\n",
    "    #advec[1:-1] = u[1:-1]*(-u[:-2]+u[1:-1])/dx\n",
    "    advec[1:-1] = u[1:-1]*(np.diff(u[:-1]))/dx\n",
    "    \n",
    "    wu[1:-1] = (u[1:-1]+(-advec[1:-1]+press[1:-1])*dt)/(1.0+rough[1:-1]*dt)\n",
    "    q[1:-1]  = wu[1:-1]*h_bar[1:-1]\n",
    "    \n",
    "    u[1:-1] = wu[1:-1]\n",
    "    u[imax] = u[imax-1]\n",
    "    q[imax] = q[imax-1]\n",
    "\n",
    "    nh[1:-1] = h[1:-1]-(-q[0:-2]+q[1:-1])/dx*dt\n",
    "    \n",
    "    h[1:-1] = nh[1:-1]\n",
    "    h[imax] = h[imax-1]\n",
    "    \n",
    "    return[wu,q,h]\n",
    "    "
   ]
  },
  {
   "cell_type": "code",
   "execution_count": 508,
   "metadata": {},
   "outputs": [],
   "source": [
    "t = 0.\n",
    "optime = 0.\n",
    "n = 0"
   ]
  },
  {
   "cell_type": "code",
   "execution_count": 509,
   "metadata": {},
   "outputs": [
    {
     "name": "stdout",
     "output_type": "stream",
     "text": [
      "start time :  1594780879.6857216\n",
      "Time=  1.666666666677257\n",
      "Time=  3.333333333380303\n",
      "Time=  5.000000000083349\n",
      "Time=  6.666666666786395\n",
      "Time=  8.333333333489442\n",
      "Time=  10.000000000029182\n",
      "Time=  11.666666666429064\n",
      "Time=  13.333333332828946\n",
      "Time=  14.999999999228827\n",
      "Time=  16.66666666562871\n",
      "Time=  18.33333333207548\n",
      "Time=  19.99999999908169\n",
      "Time=  21.666666666087902\n",
      "Time=  23.333333333094114\n",
      "Time=  25.000000000100325\n",
      "Time=  26.666666667106536\n",
      "Time=  28.333333334112748\n",
      "Time=  30.00000000111896\n",
      "Time=  31.66666666812517\n",
      "Time=  33.33333333513138\n",
      "Time=  35.00000000213759\n",
      "Time=  36.66666666895624\n",
      "Time=  38.333333334749796\n",
      "Time=  40.000000000543345\n",
      "Time=  41.666666666336894\n",
      "Time=  43.33333333213045\n",
      "Time=  44.999999997924\n",
      "Time=  46.66666666371755\n",
      "Time=  48.333333329511106\n",
      "Time=  49.999999995304655\n",
      "Time=  51.666666661098205\n",
      "Time=  53.33333332689176\n",
      "Time=  54.99999999268531\n",
      "Time=  56.66666665847886\n",
      "Time=  58.33333332427242\n",
      "Time=  59.999999990065966\n",
      "Time=  61.666666655859515\n",
      "Time=  63.33333332165307\n",
      "Time=  64.99999998744661\n",
      "Time=  66.66666665324017\n",
      "Time=  68.33333331903373\n",
      "Time=  69.99999998482727\n",
      "Time=  71.66666665062083\n",
      "Time=  73.3333333171646\n",
      "Time=  74.99999998538347\n",
      "Time=  76.66666665360235\n",
      "Time=  78.33333332182121\n",
      "Time=  79.99999999004008\n",
      "Time=  81.66666665825896\n",
      "Time=  83.33333332647783\n",
      "Time=  84.9999999946967\n",
      "Time=  86.66666666291557\n",
      "Time=  88.33333333113444\n",
      "Time=  89.9999999993533\n",
      "Time=  91.66666666757219\n",
      "Time=  93.33333333579105\n",
      "Time=  95.00000000400992\n",
      "Time=  96.6666666722288\n",
      "Time=  98.33333334044767\n",
      "End time :  1594781975.638133\n",
      "Elapsed :  1095.9524114131927\n"
     ]
    },
    {
     "data": {
      "image/png": "[encoded data removed]",
      "text/plain": [
       "<Figure size 432x288 with 1 Axes>"
      ]
     },
     "metadata": {
      "needs_background": "light"
     },
     "output_type": "display_data"
    }
   ],
   "source": [
    "t0 = time.time()\n",
    "print(\"start time : \", str(t0))   \n",
    "\n",
    "while t<etime:\n",
    "    \n",
    "    h[0]  = h[1]\n",
    "    u[0]  = q_up/(h[0]*w0)\n",
    "    q[0]  = q_up/w0\n",
    "    \n",
    "    h_cal(h,u,z0,wu,q,g,dx,dt,n0)\n",
    "    \n",
    "    wl = h + z0\n",
    "\n",
    "    if optime>tuk:\n",
    "        print(\"Time= \",t/3600)\n",
    "        optime = optime-tuk\n",
    "        #print(h)\n",
    "    \n",
    "    optime+=dt\n",
    "    t+=dt\n",
    "    \n",
    "plt.plot(x,z0)\n",
    "plt.plot(x,wl)\n",
    "\n",
    "t1 = time.time()\n",
    "print(\"End time : \", str(t1))\n",
    "print(\"Elapsed : \", str(t1 - t0))\n",
    "\n",
    "#slice: Elapsed :  96.71032643318176 Elapsed :  1095.9524114131927\n",
    "#jit slice: Elapsed :  88.6339180469513 Elapsed :  309.5418939590454\n",
    "#jit diff: Elapsed :  93.5250837802887 Elapsed :  340.5067973136902"
   ]
  },
  {
   "cell_type": "code",
   "execution_count": null,
   "metadata": {},
   "outputs": [],
   "source": []
  },
  {
   "cell_type": "code",
   "execution_count": null,
   "metadata": {},
   "outputs": [],
   "source": []
  }
 ],
 "metadata": {
  "kernelspec": {
   "display_name": "Python 3",
   "language": "python",
   "name": "python3"
  },
  "language_info": {
   "codemirror_mode": {
    "name": "ipython",
    "version": 3
   },
   "file_extension": ".py",
   "mimetype": "text/x-python",
   "name": "python",
   "nbconvert_exporter": "python",
   "pygments_lexer": "ipython3",
   "version": "3.8.2"
  }
 },
 "nbformat": 4,
 "nbformat_minor": 4
}
