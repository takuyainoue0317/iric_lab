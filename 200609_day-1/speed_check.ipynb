{
 "cells": [
  {
   "cell_type": "markdown",
   "metadata": {},
   "source": [
    "# 差分 高速化比較\n",
    "\n",
    "\n",
    "参考\n",
    "- http://dr-kayai.hatenablog.com/entry/2014/10/09/175456\n",
    "- https://kyotogeopython.zawawahoge.com/html/%E3%82%B9%E3%83%A9%E3%82%A4%E3%83%89/Python%E8%AC%9B%E7%BF%92%E4%BC%9A%EF%BC%88%E5%BF%9C%E7%94%A8%E7%B7%A8%EF%BC%89.html"
   ]
  },
  {
   "cell_type": "code",
   "execution_count": 258,
   "metadata": {},
   "outputs": [],
   "source": [
    "from numba import njit, jit, f8\n",
    "import numpy as np\n",
    "import matplotlib.pyplot as plt\n",
    "import time\n",
    "%matplotlib inline"
   ]
  },
  {
   "cell_type": "code",
   "execution_count": 259,
   "metadata": {},
   "outputs": [],
   "source": [
    "#zb チェック\n",
    "@jit\n",
    "def draw_v2d(x, y, z):\n",
    "    import matplotlib.pyplot as plt\n",
    "    plt.contourf(x,y,z)\n",
    "    return 0"
   ]
  },
  {
   "cell_type": "code",
   "execution_count": 282,
   "metadata": {},
   "outputs": [
    {
     "name": "stdout",
     "output_type": "stream",
     "text": [
      "(10000, 10000)\n"
     ]
    }
   ],
   "source": [
    "# node \n",
    "imax = 10000; jmax = 10000\n",
    "\n",
    "#河床高\n",
    "zb = np.random.rand(imax, jmax)\n",
    "\n",
    "#mesh\n",
    "x, y = np.meshgrid(np.arange(zb.shape[1]), np.arange(zb.shape[0]))\n",
    "\n",
    "#res = draw_v2d(x, y, zb)\n",
    "\n",
    "print(zb.shape)"
   ]
  },
  {
   "cell_type": "code",
   "execution_count": 261,
   "metadata": {},
   "outputs": [],
   "source": [
    "#ノーマル\n",
    "def func_0(zb):\n",
    "    \n",
    "    dzdx = np.zeros(zb.shape)\n",
    "    dzdy = np.zeros(zb.shape)\n",
    "    \n",
    "    for i in range(1,imax):\n",
    "        for j in range(0,jmax):\n",
    "            dzdx[i,j] = zb[i,j] - zb[i-1,j]\n",
    "            \n",
    "    for i in range(0,imax):\n",
    "        for j in range(1,jmax):\n",
    "            dzdy[i,j] = zb[i,j] - zb[i,j-1]\n",
    "             \n",
    "    return dzdx, dzdy"
   ]
  },
  {
   "cell_type": "code",
   "execution_count": 262,
   "metadata": {},
   "outputs": [],
   "source": [
    "#スライス\n",
    "def func_1(zb):\n",
    "    \n",
    "    dzdx = np.zeros(zb.shape)\n",
    "    dzdy = np.zeros(zb.shape)\n",
    "    \n",
    "    dzdx[1:,0:] = zb[1:, 0:] - zb[0:-1,0:]\n",
    "    dzdy[0:,1:] = zb[0:, 1:] - zb[0:,0:-1]\n",
    "\n",
    "    return dzdx"
   ]
  },
  {
   "cell_type": "code",
   "execution_count": 263,
   "metadata": {},
   "outputs": [],
   "source": [
    "#numba jit\n",
    "@jit(\"f8[:,:](f8[:,:])\", nopython=True)\n",
    "def func_2(zb):\n",
    "\n",
    "    dzdx = np.zeros(zb.shape)\n",
    "    dzdy = np.zeros(zb.shape)\n",
    "    \n",
    "    dzdx[1:,0:] = zb[1:, 0:] - zb[0:-1,0:]\n",
    "    dzdy[0:,1:] = zb[0:, 1:] - zb[0:,0:-1]\n",
    "    \n",
    "    return dzdx\n"
   ]
  },
  {
   "cell_type": "code",
   "execution_count": 264,
   "metadata": {},
   "outputs": [],
   "source": [
    "#numba jit\n",
    "@jit(\"f8[:,:](f8[:,:])\", nopython=True)\n",
    "def func_3(zb):\n",
    "    \n",
    "    \n",
    "    dzdx = np.zeros(zb.shape)\n",
    "    dzdy = np.zeros(zb.shape)\n",
    "    \n",
    "    imax = zb.shape[1]\n",
    "    jmax = zb.shape[0]\n",
    "    \n",
    "    for i in range(1,imax):\n",
    "        for j in range(0,jmax):\n",
    "            dzdx[i,j] = zb[i,j] - zb[i-1,j]\n",
    "            \n",
    "    for i in range(0,imax):\n",
    "        for j in range(1,jmax):\n",
    "            dzdy[i,j] = zb[i,j] - zb[i,j-1]\n",
    "    \n",
    "    return dzdx\n"
   ]
  },
  {
   "cell_type": "code",
   "execution_count": 265,
   "metadata": {},
   "outputs": [],
   "source": [
    "#numba jit\n",
    "@jit(\"f8[:,:](f8[:,:])\", nopython=True, parallel=True)\n",
    "def func_4(zb):\n",
    "    \n",
    "    \n",
    "    dzdx = np.zeros(zb.shape)\n",
    "    dzdy = np.zeros(zb.shape)\n",
    "    \n",
    "    imax = zb.shape[1]\n",
    "    jmax = zb.shape[0]\n",
    "    \n",
    "    for i in range(1,imax):\n",
    "        for j in range(0,jmax):\n",
    "            dzdx[i,j] = zb[i,j] - zb[i-1,j]\n",
    "            \n",
    "    for i in range(0,imax):\n",
    "        for j in range(1,jmax):\n",
    "            dzdy[i,j] = zb[i,j] - zb[i,j-1]\n",
    "    \n",
    "    return dzdx"
   ]
  },
  {
   "cell_type": "code",
   "execution_count": 266,
   "metadata": {},
   "outputs": [],
   "source": [
    "#スライス+parallel\n",
    "@jit(\"f8[:,:](f8[:,:])\", nopython=True, parallel=True)\n",
    "def func_5(zb):\n",
    "    \n",
    "    dzdx = np.zeros(zb.shape)\n",
    "    dzdy = np.zeros(zb.shape)\n",
    "    \n",
    "    dzdx[1:,0:] = zb[1:, 0:] - zb[0:-1,0:]\n",
    "    dzdy[0:,1:] = zb[0:, 1:] - zb[0:,0:-1]\n",
    "\n",
    "    return dzdx"
   ]
  },
  {
   "cell_type": "code",
   "execution_count": 267,
   "metadata": {},
   "outputs": [
    {
     "name": "stdout",
     "output_type": "stream",
     "text": [
      "for\n",
      "1.03 s ± 13.5 ms per loop (mean ± std. dev. of 7 runs, 1 loop each)\n",
      "slice\n",
      "15 ms ± 168 µs per loop (mean ± std. dev. of 7 runs, 100 loops each)\n",
      "jit+slice\n",
      "16.5 ms ± 312 µs per loop (mean ± std. dev. of 7 runs, 100 loops each)\n"
     ]
    }
   ],
   "source": [
    "print(\"for\")\n",
    "%timeit func_0(zb)\n",
    "print(\"slice\")\n",
    "%timeit func_1(zb)\n",
    "print(\"jit+slice\")\n",
    "%timeit func_2(zb)"
   ]
  },
  {
   "cell_type": "code",
   "execution_count": 268,
   "metadata": {},
   "outputs": [
    {
     "name": "stdout",
     "output_type": "stream",
     "text": [
      "jit+for\n",
      "8.27 ms ± 77.5 µs per loop (mean ± std. dev. of 7 runs, 100 loops each)\n",
      "jit+for+parallel\n",
      "5.65 ms ± 177 µs per loop (mean ± std. dev. of 7 runs, 100 loops each)\n",
      "jit+slice+parallel\n",
      "3.3 ms ± 109 µs per loop (mean ± std. dev. of 7 runs, 100 loops each)\n"
     ]
    }
   ],
   "source": [
    "print(\"jit+for\")\n",
    "%timeit func_3(zb)\n",
    "print(\"jit+for+parallel\")\n",
    "%timeit func_4(zb)\n",
    "print(\"jit+slice+parallel\")\n",
    "%timeit func_5(zb)"
   ]
  },
  {
   "cell_type": "code",
   "execution_count": 271,
   "metadata": {},
   "outputs": [
    {
     "name": "stdout",
     "output_type": "stream",
     "text": [
      "for\n",
      "start time :  1591689694.7566092\n",
      "End time :  1591689695.820787\n",
      "Elapsed :  1.0641777515411377\n"
     ]
    }
   ],
   "source": [
    "#時間計測\n",
    "print(\"for\")\n",
    "t0 = time.time()  \n",
    "print(\"start time : \", t0)        \n",
    "res = func_0(zb)\n",
    "t1 = time.time()\n",
    "print(\"End time : \", t1)\n",
    "print(\"Elapsed : \", t1 - t0)"
   ]
  },
  {
   "cell_type": "code",
   "execution_count": 270,
   "metadata": {},
   "outputs": [
    {
     "name": "stdout",
     "output_type": "stream",
     "text": [
      "slice\n",
      "start time :  1591689693.0761821\n",
      "End time :  1591689693.0941298\n",
      "Elapsed :  0.017947673797607422\n"
     ]
    }
   ],
   "source": [
    "print(\"slice\")\n",
    "t0 = time.time()  \n",
    "print(\"start time : \", t0)        \n",
    "res = func_1(zb)\n",
    "t1 = time.time()\n",
    "print(\"End time : \", t1)\n",
    "print(\"Elapsed : \", t1 - t0)"
   ]
  },
  {
   "cell_type": "code",
   "execution_count": 279,
   "metadata": {},
   "outputs": [
    {
     "name": "stdout",
     "output_type": "stream",
     "text": [
      "jit+slice\n",
      "start time :  1591690272.7082362\n",
      "End time :  1591690272.9226604\n",
      "Elapsed :  0.21442413330078125\n"
     ]
    }
   ],
   "source": [
    "print(\"jit+slice\")\n",
    "t0 = time.time()  \n",
    "print(\"start time : \", t0)        \n",
    "res = func_2(zb)\n",
    "t1 = time.time()\n",
    "print(\"End time : \", t1)\n",
    "print(\"Elapsed : \", t1 - t0)"
   ]
  },
  {
   "cell_type": "code",
   "execution_count": 273,
   "metadata": {},
   "outputs": [
    {
     "name": "stdout",
     "output_type": "stream",
     "text": [
      "jit+for\n",
      "start time :  1591689714.1537569\n",
      "End time :  1591689714.1657243\n",
      "Elapsed :  0.01196742057800293\n"
     ]
    }
   ],
   "source": [
    "print(\"jit+for\")\n",
    "t0 = time.time()  \n",
    "print(\"start time : \", t0)        \n",
    "res = func_3(zb)\n",
    "t1 = time.time()\n",
    "print(\"End time : \", t1)\n",
    "print(\"Elapsed : \", t1 - t0)"
   ]
  },
  {
   "cell_type": "code",
   "execution_count": 278,
   "metadata": {},
   "outputs": [
    {
     "name": "stdout",
     "output_type": "stream",
     "text": [
      "jit+for+parallel\n",
      "start time :  1591690266.8758657\n",
      "End time :  1591690266.954654\n",
      "Elapsed :  0.07878828048706055\n"
     ]
    }
   ],
   "source": [
    "print(\"jit+for+parallel\")\n",
    "t0 = time.time()  \n",
    "print(\"start time : \", t0)        \n",
    "res = func_4(zb)\n",
    "t1 = time.time()\n",
    "print(\"End time : \", t1)\n",
    "print(\"Elapsed : \", t1 - t0)"
   ]
  },
  {
   "cell_type": "code",
   "execution_count": 283,
   "metadata": {},
   "outputs": [
    {
     "name": "stdout",
     "output_type": "stream",
     "text": [
      "jit+slice+parallel\n",
      "start time :  1591690418.1483846\n",
      "End time :  1591690418.3548305\n",
      "Elapsed :  0.20644593238830566\n"
     ]
    }
   ],
   "source": [
    "print(\"jit+slice+parallel\")\n",
    "t0 = time.time()  \n",
    "print(\"start time : \", t0)        \n",
    "res = func_5(zb)\n",
    "t1 = time.time()\n",
    "print(\"End time : \", t1)\n",
    "print(\"Elapsed : \", t1 - t0)"
   ]
  }
 ],
 "metadata": {
  "kernelspec": {
   "display_name": "Python 3",
   "language": "python",
   "name": "python3"
  },
  "language_info": {
   "codemirror_mode": {
    "name": "ipython",
    "version": 3
   },
   "file_extension": ".py",
   "mimetype": "text/x-python",
   "name": "python",
   "nbconvert_exporter": "python",
   "pygments_lexer": "ipython3",
   "version": "3.7.4"
  }
 },
 "nbformat": 4,
 "nbformat_minor": 2
}
