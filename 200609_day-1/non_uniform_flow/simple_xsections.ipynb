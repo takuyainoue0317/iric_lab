{
 "cells": [
  {
   "cell_type": "markdown",
   "metadata": {
    "slideshow": {
     "slide_type": "slide"
    }
   },
   "source": [
    "# Uniform flow and Non-uniformflow Calculation\n",
    "## Simple Cross-Section version"
   ]
  },
  {
   "cell_type": "code",
   "execution_count": 97,
   "metadata": {
    "slideshow": {
     "slide_type": "slide"
    }
   },
   "outputs": [],
   "source": [
    "#必要なライブラリをインポートしておく\n",
    "import numpy as np\n",
    "import matplotlib.pyplot as plt\n",
    "import scipy.optimize\n",
    "%matplotlib inline"
   ]
  },
  {
   "cell_type": "code",
   "execution_count": 98,
   "metadata": {
    "slideshow": {
     "slide_type": "slide"
    }
   },
   "outputs": [],
   "source": [
    "#物理定数\n",
    "g = 9.81\n",
    "\n",
    "#分割数・断面間距離[m]\n",
    "imax = 101\n",
    "xmax = 5000\n",
    "dx = xmax/(imax-1)\n",
    "\n",
    "#勾配・川幅\n",
    "slope0 = 1/1000\n",
    "w0 = 200.\n",
    "n0 = 0.02\n",
    "\n",
    "#流量[m3/s]\n",
    "q_up = 2000.\n",
    "\n",
    "#下流端水位[m]\n",
    "wl_dw = 5.0"
   ]
  },
  {
   "cell_type": "markdown",
   "metadata": {
    "slideshow": {
     "slide_type": "slide"
    }
   },
   "source": [
    "# 格子分割\n",
    "\n",
    "---"
   ]
  },
  {
   "cell_type": "code",
   "execution_count": 99,
   "metadata": {
    "slideshow": {
     "slide_type": "subslide"
    }
   },
   "outputs": [],
   "source": [
    "x = np.linspace(0,xmax, imax)"
   ]
  },
  {
   "cell_type": "markdown",
   "metadata": {
    "slideshow": {
     "slide_type": "slide"
    }
   },
   "source": [
    "# 地形設定\n",
    "\n",
    "---\n"
   ]
  },
  {
   "cell_type": "code",
   "execution_count": 100,
   "metadata": {
    "slideshow": {
     "slide_type": "subslide"
    }
   },
   "outputs": [],
   "source": [
    "#河床高\n",
    "z0 = slope0 * x"
   ]
  },
  {
   "cell_type": "markdown",
   "metadata": {
    "slideshow": {
     "slide_type": "slide"
    }
   },
   "source": [
    "# 等流計算\n",
    "\n",
    "---"
   ]
  },
  {
   "cell_type": "code",
   "execution_count": 101,
   "metadata": {
    "slideshow": {
     "slide_type": "subslide"
    }
   },
   "outputs": [
    {
     "name": "stdout",
     "output_type": "stream",
     "text": [
      "Discharge =2000.0 [m3/s]\n",
      "Slope =0.001\n",
      "Width =200.0 [m]\n",
      "h0 =3.0242521453322184 [m]\n",
      "v0 =3.306602597747843 [m/s]\n"
     ]
    }
   ],
   "source": [
    "#等流水深\n",
    "h0 =(n0 * q_up/(w0 * np.sqrt(slope0)))**(3/5)\n",
    "\n",
    "#流速\n",
    "v0 = q_up/(h0*w0)\n",
    "\n",
    "print(\"Discharge =\" + str(q_up), \"[m3/s]\")\n",
    "print(\"Slope =\" + str(slope0))\n",
    "print(\"Width =\" + str(w0), \"[m]\")\n",
    "print(\"h0 =\" + str(h0), \"[m]\")\n",
    "print(\"v0 =\" + str(v0), \"[m/s]\")\n",
    "\n",
    "\n",
    "#水位\n",
    "wl0 = h0 + z0"
   ]
  },
  {
   "cell_type": "code",
   "execution_count": 102,
   "metadata": {
    "slideshow": {
     "slide_type": "subslide"
    }
   },
   "outputs": [
    {
     "data": {
      "text/plain": [
       "[<matplotlib.lines.Line2D at 0x272cdc0ecc8>]"
      ]
     },
     "execution_count": 102,
     "metadata": {},
     "output_type": "execute_result"
    },
    {
     "data": {
      "image/png": "[encoded data removed]",
      "text/plain": [
       "<Figure size 432x288 with 1 Axes>"
      ]
     },
     "metadata": {
      "needs_background": "light"
     },
     "output_type": "display_data"
    }
   ],
   "source": [
    "plt.plot(x,z0)\n",
    "plt.plot(x,wl0)"
   ]
  },
  {
   "cell_type": "markdown",
   "metadata": {
    "slideshow": {
     "slide_type": "slide"
    }
   },
   "source": [
    "---\n",
    "\n",
    "\n",
    "# 不等流計算１　→　wl1\n",
    "## 川幅：一定、勾配：一定、粗度：一定\n",
    "\n",
    "---"
   ]
  },
  {
   "cell_type": "code",
   "execution_count": 103,
   "metadata": {
    "slideshow": {
     "slide_type": "subslide"
    }
   },
   "outputs": [],
   "source": [
    "#水位配列の設定、下流端水位設定\n",
    "wl1 = np.zeros(imax)\n",
    "wl1[0] = wl_dw"
   ]
  },
  {
   "cell_type": "code",
   "execution_count": 104,
   "metadata": {
    "slideshow": {
     "slide_type": "subslide"
    }
   },
   "outputs": [],
   "source": [
    "#　不等流計算関数\n",
    "def func_f1(h1, h2, z1, z2, q, w, n, dx):\n",
    "    aa = q**2/(2*g*w**2)\n",
    "    bb = - n**2*q**2.*dx/(2*w**2)\n",
    "    cc = z1 - (z2 + h2 + aa/h2**2 - bb/h2**(10/3)) \n",
    "    return h1 + aa/h1**2 + bb/h1**(10/3) +cc"
   ]
  },
  {
   "cell_type": "code",
   "execution_count": 105,
   "metadata": {
    "slideshow": {
     "slide_type": "subslide"
    }
   },
   "outputs": [],
   "source": [
    "#Newton法による水位計算\n",
    "hh2 = wl1[0] - z0[0] #下流と同じ水深を与える\n",
    "for i in range(1, imax):\n",
    "    zz1 = z0[i]; zz2 = z0[i-1]\n",
    "    \n",
    "    #上流側水深\n",
    "    hh1 = scipy.optimize.newton(func_f1, hh2, args=(hh2, zz1, zz2, q_up, w0, n0, dx)) #,  maxiter=100,  tol=1.0e-06)\n",
    "    \n",
    "    #水位設定\n",
    "    wl1[i] = hh1 +z0[i]\n",
    "    \n",
    "    #次断面計算用にhh2を更新\n",
    "    hh2 = hh1\n",
    "    "
   ]
  },
  {
   "cell_type": "code",
   "execution_count": 106,
   "metadata": {
    "slideshow": {
     "slide_type": "subslide"
    }
   },
   "outputs": [
    {
     "data": {
      "text/plain": [
       "[<matplotlib.lines.Line2D at 0x272cdc82108>]"
      ]
     },
     "execution_count": 106,
     "metadata": {},
     "output_type": "execute_result"
    },
    {
     "data": {
      "image/png": "[encoded data removed]",
      "text/plain": [
       "<Figure size 432x288 with 1 Axes>"
      ]
     },
     "metadata": {
      "needs_background": "light"
     },
     "output_type": "display_data"
    }
   ],
   "source": [
    "plt.plot(x,z0)\n",
    "plt.plot(x,wl0)\n",
    "plt.plot(x,wl1)"
   ]
  },
  {
   "cell_type": "markdown",
   "metadata": {
    "slideshow": {
     "slide_type": "slide"
    }
   },
   "source": [
    "\n",
    "---\n",
    "\n",
    "# 不等流計算２　→　wl2\n",
    "## 川幅：変化、勾配：一定、粗度：一定\n",
    "\n",
    "---\n"
   ]
  },
  {
   "cell_type": "code",
   "execution_count": 107,
   "metadata": {
    "slideshow": {
     "slide_type": "subslide"
    }
   },
   "outputs": [],
   "source": [
    "#水位配列の設定、下流端水位設定\n",
    "wl2 = np.zeros(imax)\n",
    "wl2[0] = wl_dw"
   ]
  },
  {
   "cell_type": "code",
   "execution_count": 108,
   "metadata": {
    "slideshow": {
     "slide_type": "subslide"
    }
   },
   "outputs": [
    {
     "data": {
      "text/plain": [
       "[<matplotlib.lines.Line2D at 0x272cdcd99c8>]"
      ]
     },
     "execution_count": 108,
     "metadata": {},
     "output_type": "execute_result"
    },
    {
     "data": {
      "image/png": "[encoded data removed]",
      "text/plain": [
       "<Figure size 432x288 with 1 Axes>"
      ]
     },
     "metadata": {
      "needs_background": "light"
     },
     "output_type": "display_data"
    }
   ],
   "source": [
    "#川幅変化\n",
    "w = np.ones(imax) * w0 + 100*np.sin(np.linspace(-np.pi, np.pi, imax))\n",
    "plt.plot(x,w)"
   ]
  },
  {
   "cell_type": "code",
   "execution_count": 109,
   "metadata": {
    "slideshow": {
     "slide_type": "subslide"
    }
   },
   "outputs": [],
   "source": [
    "#Newton法による水位計算\n",
    "hh2 = wl1[0] - z0[0] #下流と同じ水深を与える\n",
    "for i in range(1, imax):\n",
    "    zz1 = z0[i]; zz2 = z0[i-1]\n",
    "    \n",
    "    #上流側水深\n",
    "    hh1 = scipy.optimize.newton(func_f1, hh2, args=(hh2, zz1, zz2, q_up, w[i], n0, dx)) #,  maxiter=100,  tol=1.0e-06)\n",
    "    \n",
    "    #水位設定\n",
    "    wl2[i] = hh1 +z0[i]\n",
    "    \n",
    "    #次断面計算用にhh2を更新\n",
    "    hh2 = hh1\n",
    "\n"
   ]
  },
  {
   "cell_type": "code",
   "execution_count": 110,
   "metadata": {
    "slideshow": {
     "slide_type": "subslide"
    }
   },
   "outputs": [
    {
     "data": {
      "text/plain": [
       "[<matplotlib.lines.Line2D at 0x272cdd6ce48>]"
      ]
     },
     "execution_count": 110,
     "metadata": {},
     "output_type": "execute_result"
    },
    {
     "data": {
      "image/png": "[encoded data removed]",
      "text/plain": [
       "<Figure size 432x288 with 1 Axes>"
      ]
     },
     "metadata": {
      "needs_background": "light"
     },
     "output_type": "display_data"
    }
   ],
   "source": [
    "plt.plot(x,z0)\n",
    "plt.plot(x,wl0)\n",
    "plt.plot(x,wl1)\n",
    "plt.plot(x,wl2)"
   ]
  },
  {
   "cell_type": "markdown",
   "metadata": {
    "slideshow": {
     "slide_type": "slide"
    }
   },
   "source": [
    "---\n",
    "\n",
    "# 不等流計算３　→　wl3\n",
    "## 川幅：変化、勾配：変化、粗度：一定\n",
    "\n",
    "---\n"
   ]
  },
  {
   "cell_type": "code",
   "execution_count": 111,
   "metadata": {
    "slideshow": {
     "slide_type": "subslide"
    }
   },
   "outputs": [],
   "source": [
    "#水位配列の設定、下流端水位設定\n",
    "wl3 = np.zeros(imax)\n",
    "wl3[0] = wl_dw"
   ]
  },
  {
   "cell_type": "code",
   "execution_count": 112,
   "metadata": {
    "slideshow": {
     "slide_type": "subslide"
    }
   },
   "outputs": [
    {
     "data": {
      "text/plain": [
       "[<matplotlib.lines.Line2D at 0x272cddbadc8>]"
      ]
     },
     "execution_count": 112,
     "metadata": {},
     "output_type": "execute_result"
    },
    {
     "data": {
      "image/png": "[encoded data removed]",
      "text/plain": [
       "<Figure size 432x288 with 1 Axes>"
      ]
     },
     "metadata": {
      "needs_background": "light"
     },
     "output_type": "display_data"
    }
   ],
   "source": [
    "#局所勾配\n",
    "z = z0\n",
    "slope = slope0 * np.ones(imax-1) + np.random.rand(imax-1)/200\n",
    "z[1:] = z0[0:-1] + slope[0:]*dx\n",
    "plt.plot(x,z)"
   ]
  },
  {
   "cell_type": "code",
   "execution_count": 113,
   "metadata": {
    "slideshow": {
     "slide_type": "subslide"
    }
   },
   "outputs": [],
   "source": [
    "#Newton法による水位計算\n",
    "hh2 = wl1[0] - z[0] #下流と同じ水深を与える\n",
    "for i in range(1, imax):\n",
    "    zz1 = z[i]; zz2 = z[i-1]\n",
    "    \n",
    "    #上流側水深\n",
    "    hh1 = scipy.optimize.newton(func_f1, hh2, args=(hh2, zz1, zz2, q_up, w[i], n0, dx)) #,  maxiter=100,  tol=1.0e-06)\n",
    "    #hh1 = scipy.optimize.newton(func_f1, hh2, args=(hh2, zz1, zz2, q_up, w0, n0, dx)) #,  maxiter=100,  tol=1.0e-06)\n",
    "    \n",
    "    #水位設定\n",
    "    wl3[i] = hh1 +z[i]\n",
    "    \n",
    "    #次断面計算用にhh2を更新\n",
    "    hh2 = hh1"
   ]
  },
  {
   "cell_type": "code",
   "execution_count": 114,
   "metadata": {
    "slideshow": {
     "slide_type": "subslide"
    }
   },
   "outputs": [
    {
     "data": {
      "text/plain": [
       "[<matplotlib.lines.Line2D at 0x272cde51248>]"
      ]
     },
     "execution_count": 114,
     "metadata": {},
     "output_type": "execute_result"
    },
    {
     "data": {
      "image/png": "[encoded data removed]",
      "text/plain": [
       "<Figure size 432x288 with 1 Axes>"
      ]
     },
     "metadata": {
      "needs_background": "light"
     },
     "output_type": "display_data"
    }
   ],
   "source": [
    "plt.plot(x,z)\n",
    "plt.plot(x,wl0)\n",
    "plt.plot(x,wl1)\n",
    "plt.plot(x,wl2)\n",
    "plt.plot(x,wl3)"
   ]
  }
 ],
 "metadata": {
  "celltoolbar": "Slideshow",
  "kernelspec": {
   "display_name": "Python 3",
   "language": "python",
   "name": "python3"
  },
  "language_info": {
   "codemirror_mode": {
    "name": "ipython",
    "version": 3
   },
   "file_extension": ".py",
   "mimetype": "text/x-python",
   "name": "python",
   "nbconvert_exporter": "python",
   "pygments_lexer": "ipython3",
   "version": "3.7.4"
  }
 },
 "nbformat": 4,
 "nbformat_minor": 2
}
